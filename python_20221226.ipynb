{
 "cells": [
  {
   "cell_type": "markdown",
   "id": "521c5a67-4876-4828-8fad-c9f61cec013a",
   "metadata": {},
   "source": [
    "## 문자열 연산자\n",
    "- 덧셈과 곱셈 활용"
   ]
  },
  {
   "cell_type": "code",
   "execution_count": 2,
   "id": "e78e5cc2-3bdd-4ce5-a15e-da8dd0119962",
   "metadata": {},
   "outputs": [
    {
     "name": "stdout",
     "output_type": "stream",
     "text": [
      "Hello\n",
      "World\n"
     ]
    }
   ],
   "source": [
    "a = 'Hello'\n",
    "b = 'World'\n",
    "\n",
    "print(a)\n",
    "print(b)"
   ]
  },
  {
   "cell_type": "code",
   "execution_count": 4,
   "id": "ba56efea-4f68-4591-a3eb-994093beea11",
   "metadata": {},
   "outputs": [
    {
     "name": "stdout",
     "output_type": "stream",
     "text": [
      "HelloWorld\n",
      "HelloWorldHelloWorldHelloWorld\n"
     ]
    }
   ],
   "source": [
    "c = a + b\n",
    "print(c)\n",
    "print(c * 3)"
   ]
  },
  {
   "cell_type": "markdown",
   "id": "ebbc3f34-95d6-48aa-bd32-b050c3b407c3",
   "metadata": {},
   "source": [
    "## 인덱싱 (Indexing)\n",
    "- 문자열 범위 지정 및 추출\n"
   ]
  },
  {
   "cell_type": "code",
   "execution_count": 10,
   "id": "38326f81-c7ce-4bef-b937-f6106bdf08b1",
   "metadata": {},
   "outputs": [
    {
     "ename": "IndexError",
     "evalue": "string index out of range",
     "output_type": "error",
     "traceback": [
      "\u001b[1;31m---------------------------------------------------------------------------\u001b[0m",
      "\u001b[1;31mIndexError\u001b[0m                                Traceback (most recent call last)",
      "Cell \u001b[1;32mIn[10], line 2\u001b[0m\n\u001b[0;32m      1\u001b[0m greeting \u001b[38;5;241m=\u001b[39m \u001b[38;5;124m'\u001b[39m\u001b[38;5;124mHello World\u001b[39m\u001b[38;5;124m'\u001b[39m\n\u001b[1;32m----> 2\u001b[0m \u001b[38;5;28mprint\u001b[39m(\u001b[43mgreeting\u001b[49m\u001b[43m[\u001b[49m\u001b[38;5;241;43m12\u001b[39;49m\u001b[43m]\u001b[49m)\n",
      "\u001b[1;31mIndexError\u001b[0m: string index out of range"
     ]
    }
   ],
   "source": [
    "greeting = 'Hello World'\n",
    "print(greeting[12])"
   ]
  },
  {
   "cell_type": "markdown",
   "id": "5e691cbf-5ac5-46e2-b93f-ea5d93884504",
   "metadata": {},
   "source": [
    "## 슬라이싱\n",
    "- 주피터 노트북에서 마크다운으로 변환 / 마크다운으로 코드셀로 변환 단축키 존재\n"
   ]
  },
  {
   "cell_type": "code",
   "execution_count": 16,
   "id": "6972b129-af7a-402f-b07c-d8c2f7d347a6",
   "metadata": {},
   "outputs": [
    {
     "name": "stdout",
     "output_type": "stream",
     "text": [
      "Hello World\n",
      "o World\n",
      "oWrd\n",
      "Hello Wo\n",
      "HloW\n",
      "lo Wo\n",
      "HloWrd\n"
     ]
    }
   ],
   "source": [
    "greeting = 'Hello World'\n",
    "\n",
    "print(greeting[:])\n",
    "print(greeting[4:])\n",
    "print(greeting[4::2])\n",
    "print(greeting[:8])\n",
    "print(greeting[:8:2])\n",
    "print(greeting[3:8])\n",
    "print(greeting[::2])\n"
   ]
  },
  {
   "cell_type": "code",
   "execution_count": 17,
   "id": "1b27ce29-45bb-4708-9661-1d4ca1e17033",
   "metadata": {},
   "outputs": [
    {
     "name": "stdout",
     "output_type": "stream",
     "text": [
      "12345678910111213\n",
      "5678910111213\n",
      "5790123\n",
      "12345678\n",
      "1357\n",
      "45678\n",
      "135790123\n"
     ]
    }
   ],
   "source": [
    "greeting = '12345678910111213'\n",
    "\n",
    "print(greeting[:])\n",
    "print(greeting[4:])\n",
    "print(greeting[4::2])\n",
    "print(greeting[:8])\n",
    "print(greeting[:8:2])\n",
    "print(greeting[3:8])\n",
    "print(greeting[::2])"
   ]
  },
  {
   "cell_type": "markdown",
   "id": "0d514daa-d537-4b6e-ab30-c3c064e68bb6",
   "metadata": {},
   "source": [
    "## 리스트\n",
    "- 가장 기본적인 배열 자료형(?) / ArrayList\n",
    "- 시퀀스 데이터 : 데이터에 순수가 존재함\n"
   ]
  },
  {
   "cell_type": "code",
   "execution_count": 18,
   "id": "a96ace82-4e25-412f-b720-da1c163dec01",
   "metadata": {},
   "outputs": [
    {
     "name": "stdout",
     "output_type": "stream",
     "text": [
      "[]\n",
      "<class 'list'>\n",
      "[]\n",
      "<class 'list'>\n"
     ]
    }
   ],
   "source": [
    "a = [] # 값이 비어있는 리스트\n",
    "a_list_func = list() # 값이 비어있는 리스트\n",
    "\n",
    "print(a)\n",
    "print(type(a))\n",
    "\n",
    "print(a_list_func)\n",
    "print(type(a_list_func))\n"
   ]
  },
  {
   "cell_type": "markdown",
   "id": "f20188fa-254d-4d85-893d-4d8d3fc61299",
   "metadata": {},
   "source": [
    "- 값을 추가한다."
   ]
  },
  {
   "cell_type": "code",
   "execution_count": 23,
   "id": "756bdb5d-bcf7-4666-879b-0375de65c359",
   "metadata": {},
   "outputs": [
    {
     "name": "stdout",
     "output_type": "stream",
     "text": [
      "[1, 2, 3, 4, 5, 6, 7, 8, ['apple', 'banana', 'carrot'], 'humanedu']\n",
      "1\n",
      "[1, 3, 5, 7]\n"
     ]
    }
   ],
   "source": [
    "a = [1,2,3,4,5,6,7,8, ['apple', 'banana', 'carrot'], 'humanedu']\n",
    "print(a)\n",
    "print(a[0])\n",
    "print(a[0:7:2])"
   ]
  },
  {
   "cell_type": "markdown",
   "id": "7496444b-4b31-4500-86df-89689c598c2b",
   "metadata": {},
   "source": [
    "- a 리스트 안에 있는 banana 문자열에서 맨 마지막 글자 a를 추출한다.\n",
    "- 중첩리스트 : 리스트 안에 또다른 리스트가 존재함"
   ]
  },
  {
   "cell_type": "code",
   "execution_count": 24,
   "id": "e1f90c69-14b1-4b17-b015-5d3c95e3029d",
   "metadata": {},
   "outputs": [
    {
     "data": {
      "text/plain": [
       "['apple', 'banana', 'carrot']"
      ]
     },
     "execution_count": 24,
     "metadata": {},
     "output_type": "execute_result"
    }
   ],
   "source": [
    "a[8]"
   ]
  },
  {
   "cell_type": "code",
   "execution_count": 28,
   "id": "6b87dbe8-011c-41c4-b815-73152ee7bd24",
   "metadata": {},
   "outputs": [
    {
     "name": "stdout",
     "output_type": "stream",
     "text": [
      "a\n"
     ]
    }
   ],
   "source": [
    "b = a[8]\n",
    "c = b[1]\n",
    "print(c[-1])"
   ]
  },
  {
   "cell_type": "code",
   "execution_count": 29,
   "id": "787810cb-6393-49bb-ad82-11560cb8b4c9",
   "metadata": {},
   "outputs": [
    {
     "name": "stdout",
     "output_type": "stream",
     "text": [
      "a\n"
     ]
    }
   ],
   "source": [
    "b = a[8][1][-1]\n",
    "print(b)"
   ]
  },
  {
   "cell_type": "code",
   "execution_count": 30,
   "id": "00fd26fb-904a-4054-a144-d0e9841d0435",
   "metadata": {},
   "outputs": [
    {
     "name": "stdout",
     "output_type": "stream",
     "text": [
      "o\n"
     ]
    }
   ],
   "source": [
    "b = a[8][2][-2]\n",
    "print(b)"
   ]
  },
  {
   "cell_type": "code",
   "execution_count": 32,
   "id": "e5d4b6b3-fe97-4a19-b508-23dab6477a74",
   "metadata": {},
   "outputs": [
    {
     "name": "stdout",
     "output_type": "stream",
     "text": [
      "e\n"
     ]
    }
   ],
   "source": [
    "b = a[9][-3]\n",
    "print(b)"
   ]
  },
  {
   "cell_type": "markdown",
   "id": "8c5a65f6-7c99-40ef-8d65-ebec4fd32f24",
   "metadata": {},
   "source": [
    "## 리스트 연산자\n",
    " - 덧셈,곱셈 적용 후 결과 확인\n",
    " "
   ]
  },
  {
   "cell_type": "code",
   "execution_count": 37,
   "id": "b64e7858-82d0-4e5b-b4cc-04614ae332ff",
   "metadata": {},
   "outputs": [
    {
     "name": "stdout",
     "output_type": "stream",
     "text": [
      "[1, 2, 3, 4, 5, 6]\n"
     ]
    }
   ],
   "source": [
    "a = [1,2,3]\n",
    "b = [4,5,6]\n",
    "\n",
    "print(a+b)"
   ]
  },
  {
   "cell_type": "code",
   "execution_count": 38,
   "id": "7696fb88-42dd-4ca3-bb8a-ffd147b0f2d1",
   "metadata": {},
   "outputs": [
    {
     "name": "stdout",
     "output_type": "stream",
     "text": [
      "[1, 2, 3, 1, 2, 3, 1, 2, 3]\n"
     ]
    }
   ],
   "source": [
    "a = [1,2,3]\n",
    "print(a*3)"
   ]
  },
  {
   "cell_type": "markdown",
   "id": "727450a7-0887-4953-b666-0f649be30ebf",
   "metadata": {},
   "source": [
    "## 리스트 값 수정하기\n",
    "- 리스트 내 원소의 값을 수정한다."
   ]
  },
  {
   "cell_type": "code",
   "execution_count": 40,
   "id": "a8691a4a-c823-490e-b1c2-903bb34daa2e",
   "metadata": {},
   "outputs": [
    {
     "name": "stdout",
     "output_type": "stream",
     "text": [
      "['a', 'a', 'a', 'a']\n"
     ]
    }
   ],
   "source": [
    "a = ['a', 'b', 'a', 'a']\n",
    "a[1] = 'a'\n",
    "print(a)"
   ]
  },
  {
   "cell_type": "markdown",
   "id": "deefe7f9-da7e-48ad-adc2-0793bedc1320",
   "metadata": {},
   "source": [
    "## 리스트 클래스 내부의 여러 함수\n",
    "참조 : https://docs.python.org/3/tutorial/datastructures.html"
   ]
  },
  {
   "cell_type": "markdown",
   "id": "e681ac97-c368-434c-8c47-8ef70f324a4a",
   "metadata": {},
   "source": [
    "## 오후 수업의 목표\n",
    "- 파이썬 함수(=Methods) 사용법 익히기\n",
    "- 관련 문서 확인하기"
   ]
  },
  {
   "cell_type": "code",
   "execution_count": 43,
   "id": "b3e04191-264c-4b29-abb7-01c4dc7d6596",
   "metadata": {},
   "outputs": [
    {
     "name": "stdout",
     "output_type": "stream",
     "text": [
      "I love you\n"
     ]
    }
   ],
   "source": [
    "# Capitalize\n",
    "text =  'i love YOU'\n",
    "result = text.capitalize()\n",
    "print(result)"
   ]
  },
  {
   "cell_type": "code",
   "execution_count": 45,
   "id": "bf3cfc6d-cc2e-439e-9276-05cafdebef77",
   "metadata": {},
   "outputs": [
    {
     "name": "stdout",
     "output_type": "stream",
     "text": [
      "      python is best      \n",
      "python is best\n"
     ]
    }
   ],
   "source": [
    "text = '      python is best      '\n",
    "print(text)\n",
    "result = text.strip()\n",
    "print(result)"
   ]
  },
  {
   "cell_type": "code",
   "execution_count": 46,
   "id": "fc1b082c-b272-4cc3-ad13-2df2824a614b",
   "metadata": {},
   "outputs": [
    {
     "name": "stdout",
     "output_type": "stream",
     "text": [
      "['삼성', '글로벌', '골즈', '앱`', '통한', '기부금', '누적', '1000만달러', '돌파']\n"
     ]
    }
   ],
   "source": [
    "# split\n",
    "# 문장을 분리하는 메소드\n",
    "text = '삼성 글로벌 골즈 앱` 통한 기부금 누적 1000만달러 돌파'\n",
    "result = text.split(' ')\n",
    "print(result)\n"
   ]
  },
  {
   "cell_type": "markdown",
   "id": "2cbb5b6d-f68e-4eb0-817f-224900d2fbb1",
   "metadata": {},
   "source": [
    "##  리스트 자료형\n"
   ]
  },
  {
   "cell_type": "code",
   "execution_count": 48,
   "id": "c12af9c6-ddaa-49af-a4b2-8e9c8722ca8d",
   "metadata": {},
   "outputs": [
    {
     "name": "stdout",
     "output_type": "stream",
     "text": [
      "[100, 200, 300, 400]\n",
      "None\n"
     ]
    }
   ],
   "source": [
    "a = [100, 200, 300]\n",
    "result = a.append(400)\n",
    "print(a)\n",
    "print(result)"
   ]
  },
  {
   "cell_type": "code",
   "execution_count": 52,
   "id": "2ded8b9f-b8e3-4975-b5e6-44fbe4d0fd5a",
   "metadata": {},
   "outputs": [
    {
     "name": "stdout",
     "output_type": "stream",
     "text": [
      "[100, 200, 300, [400, 500, 600]]\n"
     ]
    }
   ],
   "source": [
    "a = [100, 200, 300]\n",
    "b = [400, 500, 600]\n",
    "a.append(b)\n",
    "print(a)"
   ]
  },
  {
   "cell_type": "code",
   "execution_count": 53,
   "id": "919ca70d-5a73-44fe-a8f1-533b15cfb832",
   "metadata": {},
   "outputs": [
    {
     "name": "stdout",
     "output_type": "stream",
     "text": [
      "[100, 200, 300, 400, 500, 600]\n"
     ]
    }
   ],
   "source": [
    "a = [100, 200, 300]\n",
    "b = [400, 500, 600]\n",
    "\n",
    "# 반목문 활용 (복잡)\n",
    "# extend()\n",
    "a.extend(b)\n",
    "\n",
    "print(a)"
   ]
  },
  {
   "cell_type": "markdown",
   "id": "f33b2af1-2545-4b5d-89a1-46e3dc240953",
   "metadata": {},
   "source": [
    "-리스트 중간에 새로운 값을 추가\n"
   ]
  },
  {
   "cell_type": "code",
   "execution_count": 55,
   "id": "784c1848-1a59-4792-8bd6-7376fb392d91",
   "metadata": {},
   "outputs": [
    {
     "name": "stdout",
     "output_type": "stream",
     "text": [
      "[100, 150, 200, 300]\n"
     ]
    }
   ],
   "source": [
    "#insert()\n",
    "a = [100, 200, 300]\n",
    "\n",
    "#100과 200 사이에 150 을 추가하고싶다 \n",
    "a.insert(1,150)# 인텍스 1번째에 150을 넣고싶다\n",
    "print(a)"
   ]
  },
  {
   "cell_type": "markdown",
   "id": "6bcfee4e-5f8d-4d3b-af43-47a97d1cb02d",
   "metadata": {},
   "source": [
    "## 리스트 내 특정 값 삭제"
   ]
  },
  {
   "cell_type": "code",
   "execution_count": 57,
   "id": "175dfb1e-00e0-46a9-912c-7bf8e477c78f",
   "metadata": {},
   "outputs": [
    {
     "name": "stdout",
     "output_type": "stream",
     "text": [
      "[2, 1, 2]\n"
     ]
    },
    {
     "ename": "ValueError",
     "evalue": "list.remove(x): x not in list",
     "output_type": "error",
     "traceback": [
      "\u001b[1;31m---------------------------------------------------------------------------\u001b[0m",
      "\u001b[1;31mValueError\u001b[0m                                Traceback (most recent call last)",
      "Cell \u001b[1;32mIn[57], line 4\u001b[0m\n\u001b[0;32m      2\u001b[0m a\u001b[38;5;241m.\u001b[39mremove(\u001b[38;5;241m1\u001b[39m)\n\u001b[0;32m      3\u001b[0m \u001b[38;5;28mprint\u001b[39m(a)\n\u001b[1;32m----> 4\u001b[0m \u001b[43ma\u001b[49m\u001b[38;5;241;43m.\u001b[39;49m\u001b[43mremove\u001b[49m\u001b[43m(\u001b[49m\u001b[38;5;241;43m3\u001b[39;49m\u001b[43m)\u001b[49m\n\u001b[0;32m      5\u001b[0m \u001b[38;5;28mprint\u001b[39m(a)\n",
      "\u001b[1;31mValueError\u001b[0m: list.remove(x): x not in list"
     ]
    }
   ],
   "source": [
    "a = [1,2,1,2]\n",
    "a.remove(1)\n",
    "print(a)\n",
    "a.remove(3)\n",
    "print(a)"
   ]
  },
  {
   "cell_type": "code",
   "execution_count": 59,
   "id": "9ddd7bca-c412-4104-b9f9-90a683fb3831",
   "metadata": {},
   "outputs": [
    {
     "name": "stdout",
     "output_type": "stream",
     "text": [
      "[0, 2, 3, 4, 5, 6, 7, 8, 9]\n",
      "[0, 6, 7, 8, 9]\n"
     ]
    }
   ],
   "source": [
    "a = [0,1,2,3,4,5,6,7,8,9]\n",
    "\n",
    "# 1 삭제\n",
    "del a[1]# --인덱스 번호\n",
    "print(a)\n",
    "\n",
    "#범위로 삭제\n",
    "del a[1:5]\n",
    "print(a)"
   ]
  },
  {
   "cell_type": "markdown",
   "id": "b9ff0f94-cc2a-416c-80a4-4d859f547441",
   "metadata": {},
   "source": [
    "- 전체 다 지우자\n"
   ]
  },
  {
   "cell_type": "code",
   "execution_count": 62,
   "id": "b9692b0d-27b0-4c86-b486-a16fd9d80368",
   "metadata": {},
   "outputs": [
    {
     "name": "stdout",
     "output_type": "stream",
     "text": [
      "[1, 1, 1, 1, 1, 1, 1]\n",
      "[]\n"
     ]
    }
   ],
   "source": [
    "a = [1,1,1,1,1,1,1]\n",
    "print(a)\n",
    "\n",
    "a.clear()\n",
    "print(a)"
   ]
  },
  {
   "cell_type": "code",
   "execution_count": 65,
   "id": "ccb4541a-efba-460b-91c9-683dfdd5be2a",
   "metadata": {},
   "outputs": [
    {
     "name": "stdout",
     "output_type": "stream",
     "text": [
      "2\n"
     ]
    }
   ],
   "source": [
    "a = [\"Gold\", \"Gold\", \"Silver\", \"Silver\"]\n",
    "\n",
    "# silver가 처음 등장하는 인덱스 번호 궁금\n",
    "print(a.index(\"Silver\"))\n"
   ]
  },
  {
   "cell_type": "code",
   "execution_count": 68,
   "id": "11f07e85-24c7-4839-ae91-ca51e1f3495a",
   "metadata": {},
   "outputs": [
    {
     "name": "stdout",
     "output_type": "stream",
     "text": [
      "[1, 2, 3, 4, 5, 6]\n",
      "[6, 5, 4, 3, 2, 1]\n"
     ]
    }
   ],
   "source": [
    "a = [1, 6, 5, 2, 3, 4]\n",
    "a.sort()\n",
    "print(a)\n",
    "a.reverse()\n",
    "print(a)"
   ]
  },
  {
   "cell_type": "code",
   "execution_count": 74,
   "id": "06835d44-8cf9-40f9-95cb-f2986ec23199",
   "metadata": {},
   "outputs": [
    {
     "name": "stdout",
     "output_type": "stream",
     "text": [
      "1\n",
      "6\n",
      "6\n"
     ]
    }
   ],
   "source": [
    "a = [1,6,5,2,3,4]\n",
    "\n",
    "print(min(a))\n",
    "print(max(a))\n",
    "print(len(a))"
   ]
  },
  {
   "cell_type": "markdown",
   "id": "1a26a0c9-cb9d-47a0-b017-48362fc04aea",
   "metadata": {},
   "source": [
    "## 튜플\n",
    "- 튜플 생성"
   ]
  },
  {
   "cell_type": "code",
   "execution_count": 77,
   "id": "5f76fba3-ee15-4084-b77b-56df5666182d",
   "metadata": {},
   "outputs": [
    {
     "name": "stdout",
     "output_type": "stream",
     "text": [
      "(0,)\n",
      "(0, 1, 2)\n",
      "(0, 1, 2, 3)\n",
      "<class 'tuple'>\n",
      "<class 'tuple'>\n",
      "<class 'tuple'>\n"
     ]
    }
   ],
   "source": [
    "tuple1 = (0, )\n",
    "tuple2 = (0, 1, 2)\n",
    "tuple3 = 0,1,2,3\n",
    "\n",
    "print(tuple1)\n",
    "print(tuple2)\n",
    "print(tuple3)\n",
    "\n",
    "print(type(tuple1))\n",
    "print(type(tuple2))\n",
    "print(type(tuple3))"
   ]
  },
  {
   "cell_type": "code",
   "execution_count": 78,
   "id": "dcb6242a-4e14-43f8-a55f-41d3e0a836ad",
   "metadata": {},
   "outputs": [
    {
     "name": "stdout",
     "output_type": "stream",
     "text": [
      "1\n",
      "<class 'int'>\n"
     ]
    }
   ],
   "source": [
    "tuple0 = (1)\n",
    "print(tuple0)\n",
    "print(type(tuple0))"
   ]
  },
  {
   "cell_type": "code",
   "execution_count": 81,
   "id": "4509ea5d-0bef-4b90-849d-b001e511c2af",
   "metadata": {},
   "outputs": [
    {
     "name": "stdout",
     "output_type": "stream",
     "text": [
      "[0, 1, 2, 'A']\n"
     ]
    }
   ],
   "source": [
    "a = (0,1,2,'A')\n",
    "print(a)\n",
    "a.remove('A')"
   ]
  },
  {
   "cell_type": "code",
   "execution_count": 84,
   "id": "a39f7ced-e856-4a39-a87f-1588091f791f",
   "metadata": {},
   "outputs": [
    {
     "ename": "TypeError",
     "evalue": "'tuple' object doesn't support item deletion",
     "output_type": "error",
     "traceback": [
      "\u001b[1;31m---------------------------------------------------------------------------\u001b[0m",
      "\u001b[1;31mTypeError\u001b[0m                                 Traceback (most recent call last)",
      "Cell \u001b[1;32mIn[84], line 3\u001b[0m\n\u001b[0;32m      1\u001b[0m a \u001b[38;5;241m=\u001b[39m (\u001b[38;5;241m0\u001b[39m,\u001b[38;5;241m1\u001b[39m,\u001b[38;5;241m2\u001b[39m,\u001b[38;5;124m'\u001b[39m\u001b[38;5;124mA\u001b[39m\u001b[38;5;124m'\u001b[39m)\n\u001b[1;32m----> 3\u001b[0m \u001b[38;5;28;01mdel\u001b[39;00m \u001b[43ma\u001b[49m\u001b[43m[\u001b[49m\u001b[38;5;241;43m3\u001b[39;49m\u001b[43m]\u001b[49m\n\u001b[0;32m      5\u001b[0m \u001b[38;5;28mprint\u001b[39m(a)\n",
      "\u001b[1;31mTypeError\u001b[0m: 'tuple' object doesn't support item deletion"
     ]
    }
   ],
   "source": [
    "a = (0,1,2,'A')\n",
    "\n",
    "del a[3]\n",
    "\n",
    "print(a)"
   ]
  },
  {
   "cell_type": "markdown",
   "id": "744ba5a4-e966-4fb0-9890-399fc7c411ce",
   "metadata": {},
   "source": [
    "## 튜플 인덱싱 및 슬라이싱\n"
   ]
  },
  {
   "cell_type": "code",
   "execution_count": 88,
   "id": "c6d2a0e0-73b8-4a7d-ba65-b4c8ede6a2d6",
   "metadata": {},
   "outputs": [
    {
     "name": "stdout",
     "output_type": "stream",
     "text": [
      "2\n",
      "(0, 3, 6, 9)\n"
     ]
    }
   ],
   "source": [
    "tuple0 = (0, 1, 2, 3,4,5,6,7,8,9)\n",
    "print(tuple0[2])\n",
    "print(tuple0[::3])"
   ]
  },
  {
   "cell_type": "code",
   "execution_count": 91,
   "id": "760cb630-34d4-46eb-9f3b-6905dea198c7",
   "metadata": {},
   "outputs": [
    {
     "data": {
      "text/plain": [
       "(1, 2, 'a', 'b', 3, 4)"
      ]
     },
     "execution_count": 91,
     "metadata": {},
     "output_type": "execute_result"
    }
   ],
   "source": [
    ">>> t1 = (1, 2, 'a', 'b')\n",
    ">>> t2 = (3, 4)\n",
    ">>> t3 = t1 + t2\n",
    ">>> t3"
   ]
  },
  {
   "cell_type": "code",
   "execution_count": 93,
   "id": "6bbfc289-421f-47e1-b072-2f0474d003f8",
   "metadata": {},
   "outputs": [
    {
     "data": {
      "text/plain": [
       "(3, 4, 3, 4, 3, 4)"
      ]
     },
     "execution_count": 93,
     "metadata": {},
     "output_type": "execute_result"
    }
   ],
   "source": [
    ">>> t2 = (3, 4)\n",
    ">>> t3 = t2 * 3\n",
    ">>> t3\n",
    "(3, 4, 3, 4, 3, 4)"
   ]
  },
  {
   "cell_type": "code",
   "execution_count": 94,
   "id": "c39ef625-d0d7-4f29-a6a0-9c5e322fd4e9",
   "metadata": {},
   "outputs": [
    {
     "data": {
      "text/plain": [
       "4"
      ]
     },
     "execution_count": 94,
     "metadata": {},
     "output_type": "execute_result"
    }
   ],
   "source": [
    ">>> t1 = (1, 2, 'a', 'b')\n",
    ">>> len(t1)\n",
    "4"
   ]
  },
  {
   "cell_type": "markdown",
   "id": "fb71576c-1920-47bd-8c1c-836e3d711aba",
   "metadata": {},
   "source": [
    "## 딕셔너리\n",
    "-JSON 과 유사한 자료형"
   ]
  },
  {
   "cell_type": "code",
   "execution_count": 95,
   "id": "713ca078-ad6e-43dc-ac75-556ab3f630b1",
   "metadata": {},
   "outputs": [
    {
     "name": "stdout",
     "output_type": "stream",
     "text": [
      "{1: 'One', 2: 'Two', 3: 'Three'}\n"
     ]
    }
   ],
   "source": [
    "#{key:value}\n",
    "numbers = {1 : \"One\", 2: \"Two\", 3: \"Three\"}\n",
    "print(numbers)"
   ]
  },
  {
   "cell_type": "code",
   "execution_count": 96,
   "id": "38f2707c-aa84-40d9-9aa0-aa2dbfbb96b5",
   "metadata": {},
   "outputs": [
    {
     "name": "stdout",
     "output_type": "stream",
     "text": [
      "{'한국': '서울', '일본': '동경', '중국': '북경'}\n"
     ]
    }
   ],
   "source": [
    "country_capital = {\"한국\":\"서울\", \"일본\":\"동경\",\"중국\":\"북경\"}\n",
    "print(country_capital)"
   ]
  },
  {
   "cell_type": "code",
   "execution_count": 97,
   "id": "86b22000-42b3-4e8c-a6d7-302f058542ca",
   "metadata": {},
   "outputs": [
    {
     "name": "stdout",
     "output_type": "stream",
     "text": [
      "One\n"
     ]
    }
   ],
   "source": [
    "print(numbers[1])"
   ]
  },
  {
   "cell_type": "code",
   "execution_count": 98,
   "id": "5bb29e3a-df98-4a50-8d2c-b22257295da2",
   "metadata": {},
   "outputs": [
    {
     "name": "stdout",
     "output_type": "stream",
     "text": [
      "서울\n"
     ]
    }
   ],
   "source": [
    "print(country_capital['한국'])"
   ]
  },
  {
   "cell_type": "code",
   "execution_count": 99,
   "id": "d010b250-71c5-417d-b58a-237d534a2381",
   "metadata": {},
   "outputs": [
    {
     "name": "stdout",
     "output_type": "stream",
     "text": [
      "{1: 'One', 2: 'Two', 3: 'Three', 4: 'four'}\n"
     ]
    }
   ],
   "source": [
    "numbers[4] = 'four'\n",
    "print(numbers)"
   ]
  },
  {
   "cell_type": "code",
   "execution_count": 100,
   "id": "9318b211-c8b6-42e9-9f31-05e7723329e4",
   "metadata": {},
   "outputs": [
    {
     "name": "stdout",
     "output_type": "stream",
     "text": [
      "{'한국': '서울', '일본': '동경', '중국': '북경', '미국': '워싱턴'}\n"
     ]
    }
   ],
   "source": [
    "country_capital['미국'] = '뉴욕'\n",
    "print(country_capital)"
   ]
  },
  {
   "cell_type": "markdown",
   "id": "d62daffb-7c09-4924-b701-e48d0856e189",
   "metadata": {},
   "source": [
    "- 틀린값 수정\n"
   ]
  },
  {
   "cell_type": "code",
   "execution_count": 103,
   "id": "31b51898-ba94-427f-9d05-22d4a52eb7e7",
   "metadata": {},
   "outputs": [
    {
     "name": "stdout",
     "output_type": "stream",
     "text": [
      "{'한국': '서울', '일본': '동경', '중국': '북경', '미국': '워싱턴'}\n"
     ]
    }
   ],
   "source": [
    "country_capital['미국'] = '워싱턴'\n",
    "print(country_capital)"
   ]
  },
  {
   "cell_type": "markdown",
   "id": "1d21d325-ecdb-4a15-8ff7-554b47f08d2c",
   "metadata": {},
   "source": [
    "- 삭제\n"
   ]
  },
  {
   "cell_type": "code",
   "execution_count": 104,
   "id": "edb6d2d9-ca53-4c1a-b4c0-09db76b19a7c",
   "metadata": {},
   "outputs": [
    {
     "name": "stdout",
     "output_type": "stream",
     "text": [
      "{'한국': '서울', '일본': '동경', '중국': '북경'}\n"
     ]
    }
   ],
   "source": [
    "del country_capital['미국']\n",
    "\n",
    "print(country_capital)"
   ]
  },
  {
   "cell_type": "markdown",
   "id": "a394b0a8-4834-4e2c-8ebd-ed062ae0164b",
   "metadata": {},
   "source": [
    "### Dictionary 메서드\n",
    "- keys() : 키 값만 출력\n",
    "- values() : value값만 출력"
   ]
  },
  {
   "cell_type": "code",
   "execution_count": 109,
   "id": "8daf741b-fbf4-4316-94db-50e1757790d4",
   "metadata": {},
   "outputs": [
    {
     "name": "stdout",
     "output_type": "stream",
     "text": [
      "dict_keys(['한국', '일본', '중국'])\n",
      "<class 'dict_keys'>\n"
     ]
    }
   ],
   "source": [
    "result = country_capital.keys()\n",
    "print(result)\n",
    "print(type(result))"
   ]
  },
  {
   "cell_type": "code",
   "execution_count": 111,
   "id": "fc087a2e-b49b-477f-96b5-61073d34cc70",
   "metadata": {},
   "outputs": [
    {
     "name": "stdout",
     "output_type": "stream",
     "text": [
      "['서울', '동경', '북경']\n",
      "<class 'list'>\n"
     ]
    }
   ],
   "source": [
    "result = list(country_capital.values())\n",
    "print(result)\n",
    "print(type(result))"
   ]
  },
  {
   "cell_type": "code",
   "execution_count": 113,
   "id": "97729e89-1deb-4c42-b87a-229a492254e1",
   "metadata": {},
   "outputs": [
    {
     "name": "stdout",
     "output_type": "stream",
     "text": [
      "[('한국', '서울'), ('일본', '동경'), ('중국', '북경')]\n",
      "<class 'list'>\n"
     ]
    }
   ],
   "source": [
    "result = list(country_capital.items())\n",
    "print(result)\n",
    "print(type(result))"
   ]
  },
  {
   "cell_type": "markdown",
   "id": "bcfc35f4-4d24-436e-bfaf-8e2c06cdb1f8",
   "metadata": {},
   "source": [
    "## 조건문\n"
   ]
  },
  {
   "cell_type": "code",
   "execution_count": 119,
   "id": "b1f48d8c-c62f-42e8-8cda-c417a51f7ac1",
   "metadata": {},
   "outputs": [
    {
     "name": "stdin",
     "output_type": "stream",
     "text": [
      "점수를 입력해주세요(0~100) 33\n"
     ]
    },
    {
     "name": "stdout",
     "output_type": "stream",
     "text": [
      "33\n",
      "F등급\n"
     ]
    }
   ],
   "source": [
    "score = int(input(\"점수를 입력해주세요(0~100)\"))\n",
    "print(score)\n",
    "\n",
    "if score >= 90:\n",
    "    #코드 작성 indentation\n",
    "    print('A등급')\n",
    "elif score >= 80:\n",
    "    print('B등급')\n",
    "elif score >= 70:\n",
    "    print('C등급')\n",
    "elif score >= 60:\n",
    "    print('D등급')\n",
    "else:\n",
    "    print('F등급')"
   ]
  },
  {
   "cell_type": "markdown",
   "id": "273c25c6-3742-434e-acb1-8da5fadcd20f",
   "metadata": {},
   "source": [
    "## 반복문\n",
    "- Hello World 여러번 입력"
   ]
  },
  {
   "cell_type": "code",
   "execution_count": 120,
   "id": "745129a7-caef-4bdd-8b02-92485b01e8ff",
   "metadata": {},
   "outputs": [
    {
     "name": "stdout",
     "output_type": "stream",
     "text": [
      "1 Hello World\n",
      "2 Hello World\n",
      "3 Hello World\n"
     ]
    }
   ],
   "source": [
    "for i in range(3):\n",
    "    # 코드 작성\n",
    "    print(i + 1, 'Hello World')"
   ]
  },
  {
   "cell_type": "code",
   "execution_count": 127,
   "id": "951d388a-fa58-423f-aa9a-025c65c1490b",
   "metadata": {},
   "outputs": [
    {
     "name": "stdout",
     "output_type": "stream",
     "text": [
      "H\n",
      "e\n",
      "l\n",
      "l\n",
      "o\n"
     ]
    }
   ],
   "source": [
    "a = 'Hello'\n",
    "for x in a:\n",
    "    print(x)"
   ]
  },
  {
   "cell_type": "code",
   "execution_count": 129,
   "id": "20681c27-7de6-4279-a899-992c400d19e0",
   "metadata": {},
   "outputs": [
    {
     "name": "stdout",
     "output_type": "stream",
     "text": [
      "100\n",
      "200\n",
      "300\n"
     ]
    }
   ],
   "source": [
    "a = [100, 200, 300]\n",
    "for x in a:\n",
    "    print(x)"
   ]
  },
  {
   "cell_type": "code",
   "execution_count": 130,
   "id": "b087b7af-9214-45c2-a696-f51199caa617",
   "metadata": {},
   "outputs": [
    {
     "name": "stdout",
     "output_type": "stream",
     "text": [
      "100\n",
      "200\n",
      "300\n"
     ]
    }
   ],
   "source": [
    "a = (100, 200, 300)\n",
    "for x in a:\n",
    "    print(x)"
   ]
  },
  {
   "cell_type": "markdown",
   "id": "9890ad7d-e419-49c6-a276-3b6a7c195cda",
   "metadata": {},
   "source": [
    "# for i in 범위가 정해진 값(=시퀀스데이터)):\n"
   ]
  },
  {
   "cell_type": "code",
   "execution_count": 133,
   "id": "ee612bb9-7118-49db-a0d0-4ffbbe26f6f2",
   "metadata": {},
   "outputs": [
    {
     "data": {
      "text/plain": [
       "True"
      ]
     },
     "execution_count": 133,
     "metadata": {},
     "output_type": "execute_result"
    }
   ],
   "source": [
    "1 in range(3)"
   ]
  },
  {
   "cell_type": "markdown",
   "id": "ffb61e34-4ebd-4b96-af52-532d6e143c8d",
   "metadata": {},
   "source": [
    "## 파이썬 반복문 여러가지 방법\n",
    "-종류 겁나 많음\n"
   ]
  },
  {
   "cell_type": "code",
   "execution_count": 138,
   "id": "2c917b72-dd38-43f6-bcd8-846f4d8563a8",
   "metadata": {},
   "outputs": [
    {
     "name": "stdout",
     "output_type": "stream",
     "text": [
      "0 A\n",
      "1 B\n",
      "2 C\n"
     ]
    }
   ],
   "source": [
    "a = ['A', 'B', 'C']\n",
    "num = 0\n",
    "for idx in a:\n",
    "    print(num, idx)\n",
    "    num = num + 1"
   ]
  },
  {
   "cell_type": "code",
   "execution_count": 140,
   "id": "3a80bdc2-8885-435a-b76a-9351b1ea12fa",
   "metadata": {},
   "outputs": [
    {
     "name": "stdout",
     "output_type": "stream",
     "text": [
      "0 A\n",
      "1 B\n",
      "2 C\n"
     ]
    }
   ],
   "source": [
    "a = ['A', 'B', 'C']\n",
    "for idx, value in enumerate(a):\n",
    "    print(idx, value)"
   ]
  },
  {
   "cell_type": "code",
   "execution_count": 141,
   "id": "473d27fa-1b17-4cba-9439-6e0c6c9cf49f",
   "metadata": {},
   "outputs": [
    {
     "name": "stdout",
     "output_type": "stream",
     "text": [
      "A 1\n",
      "B 2\n",
      "C 3\n"
     ]
    }
   ],
   "source": [
    "str_list = [\"A\", \"B\", \"C\"]\n",
    "num_list = [1, 2, 3]\n",
    "\n",
    "for strs, nums in zip(str_list, num_list):\n",
    "    print(strs, nums)"
   ]
  },
  {
   "cell_type": "markdown",
   "id": "1b8ad013-a76d-449c-bbfc-7dfdef5b6058",
   "metadata": {},
   "source": [
    "## while 문\n"
   ]
  },
  {
   "cell_type": "code",
   "execution_count": 143,
   "id": "f7821bfa-a454-447b-bf53-902a76b14131",
   "metadata": {},
   "outputs": [
    {
     "name": "stdout",
     "output_type": "stream",
     "text": [
      "Hello World\n",
      "Hello World\n",
      "Hello World\n",
      "Hello World\n",
      "Hello World\n",
      "Hello World\n"
     ]
    }
   ],
   "source": [
    "i =1\n",
    "while i < 7:\n",
    "    print('Hello World')\n",
    "    i = i + 1 # i+= 1\n",
    "    "
   ]
  },
  {
   "cell_type": "markdown",
   "id": "cad81ce9-0946-4f2d-acd5-1c7f191f7b4d",
   "metadata": {},
   "source": [
    "# 파이썬 다운 문법:파이써닉 방식\n",
    "- Pythonic way\n",
    "- for loop 반복문을 한줄로 처리"
   ]
  },
  {
   "cell_type": "code",
   "execution_count": 145,
   "id": "4f8c1fe2-a097-42ba-ac5d-2a7505aac471",
   "metadata": {},
   "outputs": [
    {
     "data": {
      "text/plain": [
       "['apple', 'human']"
      ]
     },
     "execution_count": 145,
     "metadata": {},
     "output_type": "execute_result"
    }
   ],
   "source": [
    "a = ['computer', 'apple', 'human', 'zoo', 'country']\n",
    "\n",
    "# a가 들어간 문자만 리스트에 담자!\n",
    "result_list = []\n",
    "for x in a:\n",
    " if \"a\" in x:\n",
    "   result_list.append(x)\n",
    "result_list"
   ]
  },
  {
   "cell_type": "code",
   "execution_count": 146,
   "id": "5db8c9e0-15f5-4120-be54-ae79eb5a2d83",
   "metadata": {},
   "outputs": [
    {
     "data": {
      "text/plain": [
       "['apple', 'human']"
      ]
     },
     "execution_count": 146,
     "metadata": {},
     "output_type": "execute_result"
    }
   ],
   "source": [
    "a = ['computer', 'apple', 'human', 'zoo', 'country']\n",
    "result2 = [x for x in a if 'a' in x]\n",
    "result2"
   ]
  },
  {
   "cell_type": "code",
   "execution_count": null,
   "id": "bcc34e73-33ee-425a-ad1f-00ddaae23767",
   "metadata": {},
   "outputs": [],
   "source": []
  }
 ],
 "metadata": {
  "kernelspec": {
   "display_name": "Python 3 (ipykernel)",
   "language": "python",
   "name": "python3"
  },
  "language_info": {
   "codemirror_mode": {
    "name": "ipython",
    "version": 3
   },
   "file_extension": ".py",
   "mimetype": "text/x-python",
   "name": "python",
   "nbconvert_exporter": "python",
   "pygments_lexer": "ipython3",
   "version": "3.11.1"
  }
 },
 "nbformat": 4,
 "nbformat_minor": 5
}
